{
 "cells": [
  {
   "cell_type": "markdown",
   "metadata": {},
   "source": [
    "# Setup"
   ]
  },
  {
   "cell_type": "code",
   "execution_count": 1,
   "metadata": {},
   "outputs": [
    {
     "name": "stderr",
     "output_type": "stream",
     "text": [
      "/home/gasia/anaconda3/lib/python3.6/site-packages/nltk/twitter/__init__.py:20: UserWarning: The twython library has not been installed. Some functionality from the twitter package will not be available.\n",
      "  warnings.warn(\"The twython library has not been installed. \"\n"
     ]
    }
   ],
   "source": [
    "from tqdm import tqdm\n",
    "import pandas as pd\n",
    "import numpy as np\n",
    "from nltk.tokenize import RegexpTokenizer\n",
    "from nltk.stem import WordNetLemmatizer\n",
    "import glob\n",
    "import nltk\n",
    "import matplotlib.pyplot as plt\n",
    "from tqdm import tqdm_notebook\n",
    "from nltk.sentiment.vader import SentimentIntensityAnalyzer"
   ]
  },
  {
   "cell_type": "code",
   "execution_count": 2,
   "metadata": {},
   "outputs": [
    {
     "name": "stderr",
     "output_type": "stream",
     "text": [
      "/home/gasia/anaconda3/lib/python3.6/site-packages/h5py/__init__.py:36: FutureWarning: Conversion of the second argument of issubdtype from `float` to `np.floating` is deprecated. In future, it will be treated as `np.float64 == np.dtype(float).type`.\n",
      "  from ._conv import register_converters as _register_converters\n",
      "Using TensorFlow backend.\n"
     ]
    }
   ],
   "source": [
    "from keras.models import Sequential\n",
    "from keras.preprocessing.sequence import pad_sequences"
   ]
  },
  {
   "cell_type": "markdown",
   "metadata": {},
   "source": [
    "# StarSpace tsv"
   ]
  },
  {
   "cell_type": "code",
   "execution_count": 3,
   "metadata": {},
   "outputs": [],
   "source": [
    "word_space_df = pd.read_csv('/home/gasia/StarSpace/words_space_2.tsv', sep='\\t', header=None)"
   ]
  },
  {
   "cell_type": "code",
   "execution_count": 4,
   "metadata": {
    "scrolled": true
   },
   "outputs": [
    {
     "data": {
      "text/html": [
       "<div>\n",
       "<style scoped>\n",
       "    .dataframe tbody tr th:only-of-type {\n",
       "        vertical-align: middle;\n",
       "    }\n",
       "\n",
       "    .dataframe tbody tr th {\n",
       "        vertical-align: top;\n",
       "    }\n",
       "\n",
       "    .dataframe thead th {\n",
       "        text-align: right;\n",
       "    }\n",
       "</style>\n",
       "<table border=\"1\" class=\"dataframe\">\n",
       "  <thead>\n",
       "    <tr style=\"text-align: right;\">\n",
       "      <th></th>\n",
       "      <th>0</th>\n",
       "      <th>1</th>\n",
       "      <th>2</th>\n",
       "      <th>3</th>\n",
       "      <th>4</th>\n",
       "      <th>5</th>\n",
       "      <th>6</th>\n",
       "      <th>7</th>\n",
       "      <th>8</th>\n",
       "      <th>9</th>\n",
       "      <th>...</th>\n",
       "      <th>91</th>\n",
       "      <th>92</th>\n",
       "      <th>93</th>\n",
       "      <th>94</th>\n",
       "      <th>95</th>\n",
       "      <th>96</th>\n",
       "      <th>97</th>\n",
       "      <th>98</th>\n",
       "      <th>99</th>\n",
       "      <th>100</th>\n",
       "    </tr>\n",
       "  </thead>\n",
       "  <tbody>\n",
       "    <tr>\n",
       "      <th>0</th>\n",
       "      <td>__word__price</td>\n",
       "      <td>-0.000046</td>\n",
       "      <td>0.000020</td>\n",
       "      <td>0.000053</td>\n",
       "      <td>-0.000038</td>\n",
       "      <td>-0.000060</td>\n",
       "      <td>0.000009</td>\n",
       "      <td>-0.000039</td>\n",
       "      <td>-0.000006</td>\n",
       "      <td>-0.000042</td>\n",
       "      <td>...</td>\n",
       "      <td>-0.000032</td>\n",
       "      <td>0.000031</td>\n",
       "      <td>-0.000051</td>\n",
       "      <td>-0.000014</td>\n",
       "      <td>2.554380e-05</td>\n",
       "      <td>-0.000034</td>\n",
       "      <td>0.000008</td>\n",
       "      <td>-0.000007</td>\n",
       "      <td>-0.000019</td>\n",
       "      <td>-0.000015</td>\n",
       "    </tr>\n",
       "    <tr>\n",
       "      <th>1</th>\n",
       "      <td>__word__go</td>\n",
       "      <td>-0.000098</td>\n",
       "      <td>-0.000015</td>\n",
       "      <td>0.000066</td>\n",
       "      <td>0.000041</td>\n",
       "      <td>-0.000055</td>\n",
       "      <td>0.000055</td>\n",
       "      <td>0.000078</td>\n",
       "      <td>-0.000014</td>\n",
       "      <td>-0.000161</td>\n",
       "      <td>...</td>\n",
       "      <td>-0.000026</td>\n",
       "      <td>0.000228</td>\n",
       "      <td>0.000019</td>\n",
       "      <td>0.000073</td>\n",
       "      <td>6.676970e-05</td>\n",
       "      <td>-0.000016</td>\n",
       "      <td>-0.000054</td>\n",
       "      <td>0.000022</td>\n",
       "      <td>-0.000055</td>\n",
       "      <td>0.000180</td>\n",
       "    </tr>\n",
       "    <tr>\n",
       "      <th>2</th>\n",
       "      <td>__word__people</td>\n",
       "      <td>-0.000078</td>\n",
       "      <td>-0.000160</td>\n",
       "      <td>-0.000108</td>\n",
       "      <td>0.000205</td>\n",
       "      <td>-0.000097</td>\n",
       "      <td>0.000110</td>\n",
       "      <td>-0.000079</td>\n",
       "      <td>0.000257</td>\n",
       "      <td>-0.000029</td>\n",
       "      <td>...</td>\n",
       "      <td>0.000118</td>\n",
       "      <td>0.000014</td>\n",
       "      <td>-0.000033</td>\n",
       "      <td>-0.000053</td>\n",
       "      <td>1.014200e-04</td>\n",
       "      <td>-0.000182</td>\n",
       "      <td>0.000055</td>\n",
       "      <td>-0.000004</td>\n",
       "      <td>-0.000053</td>\n",
       "      <td>-0.000093</td>\n",
       "    </tr>\n",
       "    <tr>\n",
       "      <th>3</th>\n",
       "      <td>__word__time</td>\n",
       "      <td>-0.000076</td>\n",
       "      <td>-0.000088</td>\n",
       "      <td>0.000041</td>\n",
       "      <td>-0.000022</td>\n",
       "      <td>-0.000075</td>\n",
       "      <td>0.000010</td>\n",
       "      <td>0.000002</td>\n",
       "      <td>-0.000112</td>\n",
       "      <td>-0.000116</td>\n",
       "      <td>...</td>\n",
       "      <td>0.000092</td>\n",
       "      <td>0.000067</td>\n",
       "      <td>0.000062</td>\n",
       "      <td>0.000012</td>\n",
       "      <td>8.405510e-07</td>\n",
       "      <td>-0.000105</td>\n",
       "      <td>-0.000095</td>\n",
       "      <td>-0.000094</td>\n",
       "      <td>-0.000013</td>\n",
       "      <td>-0.000118</td>\n",
       "    </tr>\n",
       "    <tr>\n",
       "      <th>4</th>\n",
       "      <td>__word__rise</td>\n",
       "      <td>0.000054</td>\n",
       "      <td>-0.000025</td>\n",
       "      <td>0.000090</td>\n",
       "      <td>-0.000016</td>\n",
       "      <td>-0.000094</td>\n",
       "      <td>0.000046</td>\n",
       "      <td>-0.000133</td>\n",
       "      <td>0.000009</td>\n",
       "      <td>0.000040</td>\n",
       "      <td>...</td>\n",
       "      <td>-0.000098</td>\n",
       "      <td>-0.000082</td>\n",
       "      <td>-0.000100</td>\n",
       "      <td>-0.000076</td>\n",
       "      <td>1.344670e-04</td>\n",
       "      <td>-0.000068</td>\n",
       "      <td>0.000138</td>\n",
       "      <td>-0.000014</td>\n",
       "      <td>0.000037</td>\n",
       "      <td>-0.000115</td>\n",
       "    </tr>\n",
       "  </tbody>\n",
       "</table>\n",
       "<p>5 rows × 101 columns</p>\n",
       "</div>"
      ],
      "text/plain": [
       "              0         1         2         3         4         5         6    \\\n",
       "0   __word__price -0.000046  0.000020  0.000053 -0.000038 -0.000060  0.000009   \n",
       "1      __word__go -0.000098 -0.000015  0.000066  0.000041 -0.000055  0.000055   \n",
       "2  __word__people -0.000078 -0.000160 -0.000108  0.000205 -0.000097  0.000110   \n",
       "3    __word__time -0.000076 -0.000088  0.000041 -0.000022 -0.000075  0.000010   \n",
       "4    __word__rise  0.000054 -0.000025  0.000090 -0.000016 -0.000094  0.000046   \n",
       "\n",
       "        7         8         9      ...          91        92        93   \\\n",
       "0 -0.000039 -0.000006 -0.000042    ...    -0.000032  0.000031 -0.000051   \n",
       "1  0.000078 -0.000014 -0.000161    ...    -0.000026  0.000228  0.000019   \n",
       "2 -0.000079  0.000257 -0.000029    ...     0.000118  0.000014 -0.000033   \n",
       "3  0.000002 -0.000112 -0.000116    ...     0.000092  0.000067  0.000062   \n",
       "4 -0.000133  0.000009  0.000040    ...    -0.000098 -0.000082 -0.000100   \n",
       "\n",
       "        94            95        96        97        98        99        100  \n",
       "0 -0.000014  2.554380e-05 -0.000034  0.000008 -0.000007 -0.000019 -0.000015  \n",
       "1  0.000073  6.676970e-05 -0.000016 -0.000054  0.000022 -0.000055  0.000180  \n",
       "2 -0.000053  1.014200e-04 -0.000182  0.000055 -0.000004 -0.000053 -0.000093  \n",
       "3  0.000012  8.405510e-07 -0.000105 -0.000095 -0.000094 -0.000013 -0.000118  \n",
       "4 -0.000076  1.344670e-04 -0.000068  0.000138 -0.000014  0.000037 -0.000115  \n",
       "\n",
       "[5 rows x 101 columns]"
      ]
     },
     "execution_count": 4,
     "metadata": {},
     "output_type": "execute_result"
    }
   ],
   "source": [
    "word_space_df.head()"
   ]
  },
  {
   "cell_type": "code",
   "execution_count": 5,
   "metadata": {},
   "outputs": [],
   "source": [
    "embedding_matrix = word_space_df.iloc[:,1:].values*100\n",
    "# np.savetxt('embedding_matrix_2.txt', embedding_matrix)"
   ]
  },
  {
   "cell_type": "code",
   "execution_count": 6,
   "metadata": {},
   "outputs": [
    {
     "data": {
      "text/plain": [
       "array([[ True,  True,  True, ...,  True,  True,  True],\n",
       "       [ True,  True,  True, ...,  True,  True,  True],\n",
       "       [ True,  True,  True, ...,  True,  True,  True],\n",
       "       ...,\n",
       "       [ True,  True,  True, ...,  True,  True,  True],\n",
       "       [ True,  True,  True, ...,  True,  True,  True],\n",
       "       [ True,  True,  True, ...,  True,  True,  True]])"
      ]
     },
     "execution_count": 6,
     "metadata": {},
     "output_type": "execute_result"
    }
   ],
   "source": [
    "b = np.loadtxt('embedding_matrix_2.txt', dtype=float)\n",
    "embedding_matrix == b"
   ]
  },
  {
   "cell_type": "code",
   "execution_count": 7,
   "metadata": {},
   "outputs": [
    {
     "data": {
      "text/plain": [
       "array([[-0.00456174,  0.00199049,  0.00530094, ..., -0.000747  ,\n",
       "        -0.00185691, -0.00148372],\n",
       "       [-0.0098209 , -0.0015483 ,  0.00657379, ...,  0.00215319,\n",
       "        -0.0055143 ,  0.017991  ],\n",
       "       [-0.00775015, -0.0160362 , -0.0108018 , ..., -0.00035693,\n",
       "        -0.00529569, -0.00925997],\n",
       "       ...,\n",
       "       [ 0.315015  ,  0.189739  , -0.0696987 , ...,  0.0138445 ,\n",
       "        -0.295265  , -0.203578  ],\n",
       "       [ 0.149428  ,  0.208481  , -0.17191   , ..., -0.0259275 ,\n",
       "        -0.155085  , -0.10129   ],\n",
       "       [-0.0167871 , -0.0298068 , -0.0422543 , ...,  0.142328  ,\n",
       "         0.144241  ,  0.294094  ]])"
      ]
     },
     "execution_count": 7,
     "metadata": {},
     "output_type": "execute_result"
    }
   ],
   "source": [
    "embedding_matrix"
   ]
  },
  {
   "cell_type": "code",
   "execution_count": 8,
   "metadata": {},
   "outputs": [
    {
     "data": {
      "text/plain": [
       "(74518, 100)"
      ]
     },
     "execution_count": 8,
     "metadata": {},
     "output_type": "execute_result"
    }
   ],
   "source": [
    "len(embedding_matrix), len(embedding_matrix[0])"
   ]
  },
  {
   "cell_type": "markdown",
   "metadata": {},
   "source": [
    "# Read Data"
   ]
  },
  {
   "cell_type": "code",
   "execution_count": 9,
   "metadata": {},
   "outputs": [],
   "source": [
    "df = pd.read_csv('final_ready_all_data_word_to_vec_2.csv', parse_dates = (['timestamp'])).set_index('timestamp')\n",
    "df.sort_index(inplace = True)"
   ]
  },
  {
   "cell_type": "code",
   "execution_count": 10,
   "metadata": {},
   "outputs": [],
   "source": [
    "word_to_vec_data = df['word_to_vec_id'].values\n",
    "price_label = df['price_change'].values"
   ]
  },
  {
   "cell_type": "code",
   "execution_count": 11,
   "metadata": {},
   "outputs": [],
   "source": [
    "import json\n",
    "word_to_vec_data = [json.loads(elem) for elem in word_to_vec_data]"
   ]
  },
  {
   "cell_type": "code",
   "execution_count": 12,
   "metadata": {},
   "outputs": [],
   "source": [
    "price_label = price_label*1000"
   ]
  },
  {
   "cell_type": "code",
   "execution_count": 13,
   "metadata": {},
   "outputs": [],
   "source": [
    "price_label = [-1 if elem <= -1 else elem for elem in price_label ]\n",
    "price_label = [1 if elem >= 1 else elem for elem in price_label ]"
   ]
  },
  {
   "cell_type": "code",
   "execution_count": 14,
   "metadata": {},
   "outputs": [
    {
     "data": {
      "text/plain": [
       "(array([89868., 11345., 14080., 18875., 32849., 37072., 22085., 16630.,\n",
       "        13124., 95738.]),\n",
       " array([-1. , -0.8, -0.6, -0.4, -0.2,  0. ,  0.2,  0.4,  0.6,  0.8,  1. ]),\n",
       " <a list of 10 Patch objects>)"
      ]
     },
     "execution_count": 14,
     "metadata": {},
     "output_type": "execute_result"
    },
    {
     "data": {
      "image/png": "[encoded data removed]",
      "text/plain": [
       "<matplotlib.figure.Figure at 0x7f9aa2523eb8>"
      ]
     },
     "metadata": {},
     "output_type": "display_data"
    }
   ],
   "source": [
    "plt.hist(price_label)"
   ]
  },
  {
   "cell_type": "markdown",
   "metadata": {},
   "source": [
    "# Train/Test"
   ]
  },
  {
   "cell_type": "code",
   "execution_count": 15,
   "metadata": {},
   "outputs": [],
   "source": [
    "from sklearn.model_selection import train_test_split"
   ]
  },
  {
   "cell_type": "code",
   "execution_count": 16,
   "metadata": {},
   "outputs": [
    {
     "name": "stdout",
     "output_type": "stream",
     "text": [
      "[[    9   785    56 ... 74518 74518 74518]\n",
      " [21275  3616  1197 ... 74518 74518 74518]\n",
      " [ 1218    64   648 ... 74518 74518 74518]\n",
      " ...\n",
      " [  308  3210     4 ... 74518 74518 74518]\n",
      " [  284    11    26 ... 74518 74518 74518]\n",
      " [  398    64     0 ... 74518 74518 74518]]\n"
     ]
    }
   ],
   "source": [
    "emb_len = len( np.loadtxt('embedding_matrix_2.txt', dtype=float))\n",
    "padded_docs = pad_sequences(word_to_vec_data, maxlen=150, padding='post', value=emb_len)\n",
    "print(padded_docs)"
   ]
  },
  {
   "cell_type": "code",
   "execution_count": 31,
   "metadata": {},
   "outputs": [],
   "source": [
    "# divide to train test validation sets (80% 10% 10%)\n",
    "\n",
    "s = [t.value // 10 ** 9 for t in df.index]\n",
    "df['unix'] = s\n",
    "# additional_data = df[['polarity', 'subjectivity', 'unix', 'topic_id']].values\n",
    "\n",
    "additional_data = df[['polarity', 'subjectivity']].values\n",
    "X_train, X_test, y_train, y_test, additional_train, additional_test = train_test_split(padded_docs, price_label, additional_data, test_size=0.1, random_state=1)\n",
    "\n",
    "X_train, X_val, y_train, y_val, additional_train, additional_val = train_test_split(X_train, y_train, additional_train, test_size=0.1, random_state=1)"
   ]
  },
  {
   "cell_type": "code",
   "execution_count": 32,
   "metadata": {},
   "outputs": [],
   "source": [
    "ll = [len(elem) for elem in padded_docs]"
   ]
  },
  {
   "cell_type": "code",
   "execution_count": 33,
   "metadata": {},
   "outputs": [
    {
     "data": {
      "text/plain": [
       "(array([     0.,      0.,      0.,      0.,      0.,      0.,      0.,\n",
       "             0.,      0.,      0.,      0.,      0.,      0.,      0.,\n",
       "             0.,      0.,      0.,      0.,      0.,      0.,      0.,\n",
       "             0.,      0.,      0.,      0.,      0.,      0.,      0.,\n",
       "             0.,      0.,      0.,      0.,      0.,      0.,      0.,\n",
       "             0.,      0.,      0.,      0.,      0.,      0.,      0.,\n",
       "             0.,      0.,      0.,      0.,      0.,      0.,      0.,\n",
       "             0., 351666.,      0.,      0.,      0.,      0.,      0.,\n",
       "             0.,      0.,      0.,      0.,      0.,      0.,      0.,\n",
       "             0.,      0.,      0.,      0.,      0.,      0.,      0.,\n",
       "             0.,      0.,      0.,      0.,      0.,      0.,      0.,\n",
       "             0.,      0.,      0.,      0.,      0.,      0.,      0.,\n",
       "             0.,      0.,      0.,      0.,      0.,      0.,      0.,\n",
       "             0.,      0.,      0.,      0.,      0.,      0.,      0.,\n",
       "             0.,      0.]),\n",
       " array([149.5 , 149.51, 149.52, 149.53, 149.54, 149.55, 149.56, 149.57,\n",
       "        149.58, 149.59, 149.6 , 149.61, 149.62, 149.63, 149.64, 149.65,\n",
       "        149.66, 149.67, 149.68, 149.69, 149.7 , 149.71, 149.72, 149.73,\n",
       "        149.74, 149.75, 149.76, 149.77, 149.78, 149.79, 149.8 , 149.81,\n",
       "        149.82, 149.83, 149.84, 149.85, 149.86, 149.87, 149.88, 149.89,\n",
       "        149.9 , 149.91, 149.92, 149.93, 149.94, 149.95, 149.96, 149.97,\n",
       "        149.98, 149.99, 150.  , 150.01, 150.02, 150.03, 150.04, 150.05,\n",
       "        150.06, 150.07, 150.08, 150.09, 150.1 , 150.11, 150.12, 150.13,\n",
       "        150.14, 150.15, 150.16, 150.17, 150.18, 150.19, 150.2 , 150.21,\n",
       "        150.22, 150.23, 150.24, 150.25, 150.26, 150.27, 150.28, 150.29,\n",
       "        150.3 , 150.31, 150.32, 150.33, 150.34, 150.35, 150.36, 150.37,\n",
       "        150.38, 150.39, 150.4 , 150.41, 150.42, 150.43, 150.44, 150.45,\n",
       "        150.46, 150.47, 150.48, 150.49, 150.5 ]),\n",
       " <a list of 100 Patch objects>)"
      ]
     },
     "execution_count": 33,
     "metadata": {},
     "output_type": "execute_result"
    },
    {
     "data": {
      "image/png": "[encoded data removed]",
      "text/plain": [
       "<matplotlib.figure.Figure at 0x7f9a73e17eb8>"
      ]
     },
     "metadata": {},
     "output_type": "display_data"
    }
   ],
   "source": [
    "plt.hist(ll, bins = 100)"
   ]
  },
  {
   "cell_type": "markdown",
   "metadata": {},
   "source": [
    "# Dictionary"
   ]
  },
  {
   "cell_type": "code",
   "execution_count": 34,
   "metadata": {},
   "outputs": [],
   "source": [
    "word_space_df[0] = [ww[8:] if type(ww) != float else str(ww) for ww in word_space_df[0] ]"
   ]
  },
  {
   "cell_type": "code",
   "execution_count": 35,
   "metadata": {},
   "outputs": [],
   "source": [
    "words_dict = word_space_df[0].to_dict()"
   ]
  },
  {
   "cell_type": "code",
   "execution_count": 36,
   "metadata": {},
   "outputs": [],
   "source": [
    "words_dict = dict(zip(words_dict.values(), words_dict.keys()))"
   ]
  },
  {
   "cell_type": "code",
   "execution_count": 37,
   "metadata": {},
   "outputs": [],
   "source": [
    "# import json \n",
    "# with open('word_dict.json', 'w') as outfile:\n",
    "#     json.dump(words_dict, outfile)"
   ]
  },
  {
   "cell_type": "code",
   "execution_count": 38,
   "metadata": {},
   "outputs": [],
   "source": [
    "with open('word_dict_2.json') as json_data:\n",
    "    words_dict_test = json.load(json_data)"
   ]
  },
  {
   "cell_type": "markdown",
   "metadata": {},
   "source": [
    "----------"
   ]
  },
  {
   "cell_type": "markdown",
   "metadata": {},
   "source": [
    "# Neural Network LSTM"
   ]
  },
  {
   "cell_type": "code",
   "execution_count": 39,
   "metadata": {},
   "outputs": [],
   "source": [
    "from keras.layers import Dense, Activation, Embedding, Flatten, Dropout, TimeDistributed, Reshape, Lambda\n",
    "from keras.layers import LSTM"
   ]
  },
  {
   "cell_type": "code",
   "execution_count": 40,
   "metadata": {},
   "outputs": [],
   "source": [
    "embedding_matrix = np.loadtxt('embedding_matrix_2.txt', dtype=float)"
   ]
  },
  {
   "cell_type": "code",
   "execution_count": 41,
   "metadata": {},
   "outputs": [],
   "source": [
    "zero_padding_embedding = (np.zeros(len(embedding_matrix[0]), dtype=float))\n",
    "embedding_matrix = np.row_stack([embedding_matrix, zero_padding_embedding])"
   ]
  },
  {
   "cell_type": "code",
   "execution_count": 42,
   "metadata": {},
   "outputs": [],
   "source": [
    "hidden_size = 8 #25\n",
    "use_dropout=True"
   ]
  },
  {
   "cell_type": "markdown",
   "metadata": {},
   "source": [
    "-----------"
   ]
  },
  {
   "cell_type": "code",
   "execution_count": 44,
   "metadata": {},
   "outputs": [],
   "source": [
    "from keras.layers import Input, Embedding, LSTM, Dense, concatenate\n",
    "from keras.models import Model"
   ]
  },
  {
   "cell_type": "code",
   "execution_count": 51,
   "metadata": {},
   "outputs": [],
   "source": [
    "main_input = Input(shape=(150,), dtype='int32', name='main_input')\n",
    "\n",
    "# This embedding layer will encode the input sequence\n",
    "# into a sequence of dense len(embedding_matrix[0])-dimensional vectors.\n",
    "x = Embedding(output_dim = len(embedding_matrix[0]), input_dim = len(embedding_matrix),\n",
    "                    weights=[embedding_matrix], input_length = 150, trainable=False)(main_input)\n",
    "# A LSTM will transform the vector sequence into a single vector,\n",
    "# containing information about the entire sequence\n",
    "lstm_out = LSTM(units = 100)(x)\n",
    "\n",
    "# model.add(Dense(1, activation='sigmoid'))\n",
    "auxiliary_output = Dense(1, activation='sigmoid', name='aux_output')(lstm_out)\n"
   ]
  },
  {
   "cell_type": "code",
   "execution_count": 88,
   "metadata": {},
   "outputs": [],
   "source": [
    "auxiliary_input = Input(shape=(2,), name='aux_input')\n",
    "x = concatenate([lstm_out, auxiliary_input])\n",
    "\n",
    "# We stack a deep densely-connected network on top\n",
    "\n",
    "x = Dense(1024, activation='sigmoid')(x)\n",
    "x = Dense(512, activation='sigmoid')(x)\n",
    "x = Dense(1024, activation='tanh')(x)\n",
    "x = Dense(512, activation='tanh')(x)\n",
    "x = Dense(2048, activation='tanh')(x)\n",
    "\n",
    "# And finally we add the main logistic regression layer\n",
    "main_output = Dense(1, activation='tanh', name='main_output')(x)"
   ]
  },
  {
   "cell_type": "code",
   "execution_count": 89,
   "metadata": {},
   "outputs": [],
   "source": [
    "model = Model(inputs=[main_input, auxiliary_input], outputs=[main_output])"
   ]
  },
  {
   "cell_type": "code",
   "execution_count": 90,
   "metadata": {},
   "outputs": [
    {
     "name": "stdout",
     "output_type": "stream",
     "text": [
      "__________________________________________________________________________________________________\n",
      "Layer (type)                    Output Shape         Param #     Connected to                     \n",
      "==================================================================================================\n",
      "main_input (InputLayer)         (None, 150)          0                                            \n",
      "__________________________________________________________________________________________________\n",
      "embedding_2 (Embedding)         (None, 150, 100)     7451900     main_input[0][0]                 \n",
      "__________________________________________________________________________________________________\n",
      "lstm_2 (LSTM)                   (None, 100)          80400       embedding_2[0][0]                \n",
      "__________________________________________________________________________________________________\n",
      "aux_input (InputLayer)          (None, 2)            0                                            \n",
      "__________________________________________________________________________________________________\n",
      "concatenate_10 (Concatenate)    (None, 102)          0           lstm_2[0][0]                     \n",
      "                                                                 aux_input[0][0]                  \n",
      "__________________________________________________________________________________________________\n",
      "dense_37 (Dense)                (None, 1024)         105472      concatenate_10[0][0]             \n",
      "__________________________________________________________________________________________________\n",
      "dense_38 (Dense)                (None, 512)          524800      dense_37[0][0]                   \n",
      "__________________________________________________________________________________________________\n",
      "dense_39 (Dense)                (None, 1024)         525312      dense_38[0][0]                   \n",
      "__________________________________________________________________________________________________\n",
      "dense_40 (Dense)                (None, 512)          524800      dense_39[0][0]                   \n",
      "__________________________________________________________________________________________________\n",
      "dense_41 (Dense)                (None, 2048)         1050624     dense_40[0][0]                   \n",
      "__________________________________________________________________________________________________\n",
      "main_output (Dense)             (None, 1)            2049        dense_41[0][0]                   \n",
      "==================================================================================================\n",
      "Total params: 10,265,357\n",
      "Trainable params: 2,813,457\n",
      "Non-trainable params: 7,451,900\n",
      "__________________________________________________________________________________________________\n"
     ]
    }
   ],
   "source": [
    "model.summary()"
   ]
  },
  {
   "cell_type": "code",
   "execution_count": 91,
   "metadata": {},
   "outputs": [],
   "source": [
    "model.compile(optimizer='adam', loss='mean_squared_error', metrics=['accuracy'])"
   ]
  },
  {
   "cell_type": "code",
   "execution_count": null,
   "metadata": {},
   "outputs": [],
   "source": [
    "model.fit([np.array(X_train), additional_train], [np.array(y_train)],\n",
    "          epochs=6, batch_size=32)"
   ]
  },
  {
   "cell_type": "code",
   "execution_count": 104,
   "metadata": {},
   "outputs": [
    {
     "data": {
      "text/plain": [
       "2"
      ]
     },
     "execution_count": 104,
     "metadata": {},
     "output_type": "execute_result"
    }
   ],
   "source": [
    "len(additional_test[0])"
   ]
  },
  {
   "cell_type": "code",
   "execution_count": 94,
   "metadata": {},
   "outputs": [
    {
     "name": "stdout",
     "output_type": "stream",
     "text": [
      "Accuracy: 23.900247\n"
     ]
    }
   ],
   "source": [
    "loss, accuracy = model.evaluate([X_test, additional_test], np.array(y_test), verbose=0)\n",
    "print('Accuracy: %f' % (accuracy*100))"
   ]
  },
  {
   "cell_type": "code",
   "execution_count": 95,
   "metadata": {},
   "outputs": [
    {
     "name": "stdout",
     "output_type": "stream",
     "text": [
      "Accuracy: 24.154818\n"
     ]
    }
   ],
   "source": [
    "loss, accuracy = model.evaluate([X_val, additional_val], np.array(y_val), verbose=0)\n",
    "print('Accuracy: %f' % (accuracy*100))"
   ]
  },
  {
   "cell_type": "code",
   "execution_count": 96,
   "metadata": {},
   "outputs": [
    {
     "name": "stdout",
     "output_type": "stream",
     "text": [
      "Accuracy: 24.135595\n"
     ]
    }
   ],
   "source": [
    "loss, accuracy = model.evaluate([X_train, additional_train], np.array(y_train), verbose=0)\n",
    "print('Accuracy: %f' % (accuracy*100))"
   ]
  },
  {
   "cell_type": "code",
   "execution_count": 108,
   "metadata": {},
   "outputs": [
    {
     "name": "stdout",
     "output_type": "stream",
     "text": [
      "Saved model to disk\n",
      "Loaded model from disk\n"
     ]
    }
   ],
   "source": [
    "from keras.models import model_from_json\n",
    "\n",
    "#serialize model to JSON\n",
    "model_json = model.to_json()\n",
    "with open(\"model.json\", \"w\") as json_file:\n",
    "    json_file.write(model_json)\n",
    "# serialize weights to HDF5\n",
    "model.save_weights(\"model.h5\")\n",
    "print(\"Saved model to disk\")\n",
    " \n",
    "# later...\n",
    " \n",
    "# load json and create model\n",
    "json_file = open('model.json', 'r')\n",
    "loaded_model_json = json_file.read()\n",
    "json_file.close()\n",
    "loaded_model = model_from_json(loaded_model_json)\n",
    "# load weights into new model\n",
    "loaded_model.load_weights(\"model.h5\")\n",
    "print(\"Loaded model from disk\")\n"
   ]
  },
  {
   "cell_type": "code",
   "execution_count": 110,
   "metadata": {},
   "outputs": [
    {
     "name": "stdout",
     "output_type": "stream",
     "text": [
      "acc: 23.90%\n"
     ]
    }
   ],
   "source": [
    " \n",
    "# evaluate loaded model on test data\n",
    "loaded_model.compile(optimizer='adam', loss='mean_squared_error', metrics=['accuracy'])\n",
    "score = loaded_model.evaluate([X_test, additional_test], y_test, verbose=0)\n",
    "print(\"%s: %.2f%%\" % (loaded_model.metrics_names[1], score[1]*100))\n"
   ]
  },
  {
   "cell_type": "markdown",
   "metadata": {},
   "source": [
    "---------------"
   ]
  }
 ],
 "metadata": {
  "kernelspec": {
   "display_name": "Python 3",
   "language": "python",
   "name": "python3"
  },
  "language_info": {
   "codemirror_mode": {
    "name": "ipython",
    "version": 3
   },
   "file_extension": ".py",
   "mimetype": "text/x-python",
   "name": "python",
   "nbconvert_exporter": "python",
   "pygments_lexer": "ipython3",
   "version": "3.6.4"
  }
 },
 "nbformat": 4,
 "nbformat_minor": 2
}
